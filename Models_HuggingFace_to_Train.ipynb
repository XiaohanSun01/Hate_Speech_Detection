{
 "cells": [
  {
   "cell_type": "code",
   "execution_count": 1,
   "id": "72aa9040",
   "metadata": {},
   "outputs": [],
   "source": [
    "import pandas as pd \n",
    "from sklearn.feature_extraction.text import TfidfVectorizer\n",
    "from sklearn.ensemble import RandomForestClassifier, AdaBoostClassifier, GradientBoostingClassifier\n",
    "from sklearn.metrics import accuracy_score, confusion_matrix, auc, precision_score, recall_score, f1_score, roc_auc_score, classification_report,balanced_accuracy_score, precision_recall_curve, plot_precision_recall_curve\n",
    "from sklearn import svm\n",
    "import numpy as np\n",
    "from sklearn import preprocessing\n",
    "seed = 42\n",
    "np.random.seed(seed)\n",
    "from keras.models import Sequential\n",
    "from keras.layers import Dense, Dropout\n",
    "from keras.layers import Flatten\n",
    "from keras.preprocessing import sequence\n",
    "import torch\n",
    "from torch import optim\n",
    "import scipy\n",
    "import tensorflow as tf\n",
    "import matplotlib.pyplot as plt\n",
    "from sklearn.naive_bayes import MultinomialNB\n",
    "from sklearn.linear_model import LogisticRegression\n"
   ]
  },
  {
   "cell_type": "markdown",
   "id": "1648a1c2",
   "metadata": {},
   "source": [
    "# Function of Metrics Confusion."
   ]
  },
  {
   "cell_type": "code",
   "execution_count": 2,
   "id": "ea6e4e26",
   "metadata": {},
   "outputs": [],
   "source": [
    "def get_metrics_confusion(y, y_pred):\n",
    "    \n",
    "    acc = accuracy_score(y, y_pred)\n",
    "    f1 = f1_score(y, y_pred)\n",
    "    rec = recall_score(y, y_pred)\n",
    "    prec = precision_score(y, y_pred)\n",
    "    \n",
    "\n",
    "    print('Accuracy: ', acc)\n",
    "    print('Recall: ', rec)\n",
    "    print('Precision: ', prec)\n",
    "    print('F1 Score: ', f1)"
   ]
  },
  {
   "cell_type": "markdown",
   "id": "47ebdd26",
   "metadata": {},
   "source": [
    "# Read the Datasets "
   ]
  },
  {
   "cell_type": "markdown",
   "id": "5dca5e0f",
   "metadata": {},
   "source": [
    "### HASOC Dataset "
   ]
  },
  {
   "cell_type": "code",
   "execution_count": 3,
   "id": "a24d7529",
   "metadata": {},
   "outputs": [
    {
     "data": {
      "text/html": [
       "<div>\n",
       "<style scoped>\n",
       "    .dataframe tbody tr th:only-of-type {\n",
       "        vertical-align: middle;\n",
       "    }\n",
       "\n",
       "    .dataframe tbody tr th {\n",
       "        vertical-align: top;\n",
       "    }\n",
       "\n",
       "    .dataframe thead th {\n",
       "        text-align: right;\n",
       "    }\n",
       "</style>\n",
       "<table border=\"1\" class=\"dataframe\">\n",
       "  <thead>\n",
       "    <tr style=\"text-align: right;\">\n",
       "      <th></th>\n",
       "      <th>label</th>\n",
       "      <th>clean_tweet</th>\n",
       "      <th>Hash Words</th>\n",
       "    </tr>\n",
       "  </thead>\n",
       "  <tbody>\n",
       "    <tr>\n",
       "      <th>0</th>\n",
       "      <td>0</td>\n",
       "      <td>lulz new meme day opkkk optrump opdomesticterr...</td>\n",
       "      <td>#opkkk #optrump #opdomesticterrorism #fucktrum...</td>\n",
       "    </tr>\n",
       "    <tr>\n",
       "      <th>1</th>\n",
       "      <td>1</td>\n",
       "      <td>gandinaaliabus arnob r great job showcas genui...</td>\n",
       "      <td>#gandinaaliabuse</td>\n",
       "    </tr>\n",
       "    <tr>\n",
       "      <th>2</th>\n",
       "      <td>0</td>\n",
       "      <td>enough harass still like unwelcom rel leav eve...</td>\n",
       "      <td>#johnmccainday #trumpisatraitor #collusion</td>\n",
       "    </tr>\n",
       "    <tr>\n",
       "      <th>3</th>\n",
       "      <td>0</td>\n",
       "      <td>3rd class organ world biggest cup sad see help...</td>\n",
       "      <td>#icc #shameonicc</td>\n",
       "    </tr>\n",
       "    <tr>\n",
       "      <th>4</th>\n",
       "      <td>0</td>\n",
       "      <td>hey love india cc dhonikeepstheglov balidaanba...</td>\n",
       "      <td>#dhonikeepstheglove #balidaanbadge #dhonikesaa...</td>\n",
       "    </tr>\n",
       "  </tbody>\n",
       "</table>\n",
       "</div>"
      ],
      "text/plain": [
       "   label                                        clean_tweet  \\\n",
       "0      0  lulz new meme day opkkk optrump opdomesticterr...   \n",
       "1      1  gandinaaliabus arnob r great job showcas genui...   \n",
       "2      0  enough harass still like unwelcom rel leav eve...   \n",
       "3      0  3rd class organ world biggest cup sad see help...   \n",
       "4      0  hey love india cc dhonikeepstheglov balidaanba...   \n",
       "\n",
       "                                          Hash Words  \n",
       "0  #opkkk #optrump #opdomesticterrorism #fucktrum...  \n",
       "1                                   #gandinaaliabuse  \n",
       "2         #johnmccainday #trumpisatraitor #collusion  \n",
       "3                                   #icc #shameonicc  \n",
       "4  #dhonikeepstheglove #balidaanbadge #dhonikesaa...  "
      ]
     },
     "execution_count": 3,
     "metadata": {},
     "output_type": "execute_result"
    }
   ],
   "source": [
    "hasoc = pd.read_csv('data/Cleaning/HASOC_Dataset.csv',on_bad_lines='skip')\n",
    "hasoc.head()"
   ]
  },
  {
   "cell_type": "code",
   "execution_count": 4,
   "id": "61894ae9",
   "metadata": {},
   "outputs": [
    {
     "data": {
      "text/html": [
       "<div>\n",
       "<style scoped>\n",
       "    .dataframe tbody tr th:only-of-type {\n",
       "        vertical-align: middle;\n",
       "    }\n",
       "\n",
       "    .dataframe tbody tr th {\n",
       "        vertical-align: top;\n",
       "    }\n",
       "\n",
       "    .dataframe thead th {\n",
       "        text-align: right;\n",
       "    }\n",
       "</style>\n",
       "<table border=\"1\" class=\"dataframe\">\n",
       "  <thead>\n",
       "    <tr style=\"text-align: right;\">\n",
       "      <th></th>\n",
       "      <th>label</th>\n",
       "      <th>clean_tweet</th>\n",
       "      <th>Hash Words</th>\n",
       "    </tr>\n",
       "  </thead>\n",
       "  <tbody>\n",
       "    <tr>\n",
       "      <th>0</th>\n",
       "      <td>0</td>\n",
       "      <td>lulz new meme day opkkk optrump opdomesticterr...</td>\n",
       "      <td>#opkkk #optrump #opdomesticterrorism #fucktrum...</td>\n",
       "    </tr>\n",
       "    <tr>\n",
       "      <th>1</th>\n",
       "      <td>1</td>\n",
       "      <td>gandinaaliabus arnob r great job showcas genui...</td>\n",
       "      <td>#gandinaaliabuse</td>\n",
       "    </tr>\n",
       "    <tr>\n",
       "      <th>2</th>\n",
       "      <td>0</td>\n",
       "      <td>enough harass still like unwelcom rel leav eve...</td>\n",
       "      <td>#johnmccainday #trumpisatraitor #collusion</td>\n",
       "    </tr>\n",
       "    <tr>\n",
       "      <th>3</th>\n",
       "      <td>0</td>\n",
       "      <td>3rd class organ world biggest cup sad see help...</td>\n",
       "      <td>#icc #shameonicc</td>\n",
       "    </tr>\n",
       "    <tr>\n",
       "      <th>4</th>\n",
       "      <td>0</td>\n",
       "      <td>hey love india cc dhonikeepstheglov balidaanba...</td>\n",
       "      <td>#dhonikeepstheglove #balidaanbadge #dhonikesaa...</td>\n",
       "    </tr>\n",
       "    <tr>\n",
       "      <th>...</th>\n",
       "      <td>...</td>\n",
       "      <td>...</td>\n",
       "      <td>...</td>\n",
       "    </tr>\n",
       "    <tr>\n",
       "      <th>4536</th>\n",
       "      <td>0</td>\n",
       "      <td>leader free world find need even care mayor ci...</td>\n",
       "      <td>#pathetic #sociopathic #douchebag</td>\n",
       "    </tr>\n",
       "    <tr>\n",
       "      <th>4537</th>\n",
       "      <td>0</td>\n",
       "      <td>befit repli section medium look controversi dh...</td>\n",
       "      <td>#dhonikeepstheglove #dhonigloves</td>\n",
       "    </tr>\n",
       "    <tr>\n",
       "      <th>4538</th>\n",
       "      <td>0</td>\n",
       "      <td>heard pa clear trumpisatraitor trumplieseveryt...</td>\n",
       "      <td>#trumpisatraitor #trumplieseverytimehespeaks #...</td>\n",
       "    </tr>\n",
       "    <tr>\n",
       "      <th>4539</th>\n",
       "      <td>0</td>\n",
       "      <td>celebr putinspuppet desperatedonald trumpisatr...</td>\n",
       "      <td>#putinspuppet #desperatedonald #trumpisatraito...</td>\n",
       "    </tr>\n",
       "    <tr>\n",
       "      <th>4540</th>\n",
       "      <td>0</td>\n",
       "      <td>final year obama presid gop frontrunn receiv g...</td>\n",
       "      <td>#labamba #trumpisatraitor #trumpisadisgrace #s...</td>\n",
       "    </tr>\n",
       "  </tbody>\n",
       "</table>\n",
       "<p>4541 rows × 3 columns</p>\n",
       "</div>"
      ],
      "text/plain": [
       "      label                                        clean_tweet  \\\n",
       "0         0  lulz new meme day opkkk optrump opdomesticterr...   \n",
       "1         1  gandinaaliabus arnob r great job showcas genui...   \n",
       "2         0  enough harass still like unwelcom rel leav eve...   \n",
       "3         0  3rd class organ world biggest cup sad see help...   \n",
       "4         0  hey love india cc dhonikeepstheglov balidaanba...   \n",
       "...     ...                                                ...   \n",
       "4536      0  leader free world find need even care mayor ci...   \n",
       "4537      0  befit repli section medium look controversi dh...   \n",
       "4538      0  heard pa clear trumpisatraitor trumplieseveryt...   \n",
       "4539      0  celebr putinspuppet desperatedonald trumpisatr...   \n",
       "4540      0  final year obama presid gop frontrunn receiv g...   \n",
       "\n",
       "                                             Hash Words  \n",
       "0     #opkkk #optrump #opdomesticterrorism #fucktrum...  \n",
       "1                                      #gandinaaliabuse  \n",
       "2            #johnmccainday #trumpisatraitor #collusion  \n",
       "3                                      #icc #shameonicc  \n",
       "4     #dhonikeepstheglove #balidaanbadge #dhonikesaa...  \n",
       "...                                                 ...  \n",
       "4536                  #pathetic #sociopathic #douchebag  \n",
       "4537                   #dhonikeepstheglove #dhonigloves  \n",
       "4538  #trumpisatraitor #trumplieseverytimehespeaks #...  \n",
       "4539  #putinspuppet #desperatedonald #trumpisatraito...  \n",
       "4540  #labamba #trumpisatraitor #trumpisadisgrace #s...  \n",
       "\n",
       "[4541 rows x 3 columns]"
      ]
     },
     "execution_count": 4,
     "metadata": {},
     "output_type": "execute_result"
    }
   ],
   "source": [
    "hasoc"
   ]
  },
  {
   "cell_type": "code",
   "execution_count": 5,
   "id": "a7ae41fe",
   "metadata": {},
   "outputs": [
    {
     "data": {
      "text/plain": [
       "0    3419\n",
       "1    1122\n",
       "Name: label, dtype: int64"
      ]
     },
     "execution_count": 5,
     "metadata": {},
     "output_type": "execute_result"
    }
   ],
   "source": [
    "hasoc.label.value_counts()"
   ]
  },
  {
   "cell_type": "markdown",
   "id": "b3596898",
   "metadata": {},
   "source": [
    "### Aristotle Dataset"
   ]
  },
  {
   "cell_type": "code",
   "execution_count": 6,
   "id": "bd69393c",
   "metadata": {},
   "outputs": [
    {
     "data": {
      "text/html": [
       "<div>\n",
       "<style scoped>\n",
       "    .dataframe tbody tr th:only-of-type {\n",
       "        vertical-align: middle;\n",
       "    }\n",
       "\n",
       "    .dataframe tbody tr th {\n",
       "        vertical-align: top;\n",
       "    }\n",
       "\n",
       "    .dataframe thead th {\n",
       "        text-align: right;\n",
       "    }\n",
       "</style>\n",
       "<table border=\"1\" class=\"dataframe\">\n",
       "  <thead>\n",
       "    <tr style=\"text-align: right;\">\n",
       "      <th></th>\n",
       "      <th>label</th>\n",
       "      <th>clean_tweet</th>\n",
       "      <th>Hash Words</th>\n",
       "    </tr>\n",
       "  </thead>\n",
       "  <tbody>\n",
       "    <tr>\n",
       "      <th>0</th>\n",
       "      <td>0</td>\n",
       "      <td>take shot predict bengal first two draft day i...</td>\n",
       "      <td>#bengals</td>\n",
       "    </tr>\n",
       "    <tr>\n",
       "      <th>1</th>\n",
       "      <td>0</td>\n",
       "      <td>next week localnewspap shop wednesday afternoo...</td>\n",
       "      <td>#localnewspaper</td>\n",
       "    </tr>\n",
       "    <tr>\n",
       "      <th>2</th>\n",
       "      <td>0</td>\n",
       "      <td>final get player dnd soon align go think chaot...</td>\n",
       "      <td>No hashtags</td>\n",
       "    </tr>\n",
       "    <tr>\n",
       "      <th>3</th>\n",
       "      <td>0</td>\n",
       "      <td>commit oral write idea goal like honor commitm...</td>\n",
       "      <td>No hashtags</td>\n",
       "    </tr>\n",
       "    <tr>\n",
       "      <th>4</th>\n",
       "      <td>1</td>\n",
       "      <td>syrian alli iran blast you missil strike dange...</td>\n",
       "      <td>No hashtags</td>\n",
       "    </tr>\n",
       "  </tbody>\n",
       "</table>\n",
       "</div>"
      ],
      "text/plain": [
       "   label                                        clean_tweet       Hash Words\n",
       "0      0  take shot predict bengal first two draft day i...         #bengals\n",
       "1      0  next week localnewspap shop wednesday afternoo...  #localnewspaper\n",
       "2      0  final get player dnd soon align go think chaot...      No hashtags\n",
       "3      0  commit oral write idea goal like honor commitm...      No hashtags\n",
       "4      1  syrian alli iran blast you missil strike dange...      No hashtags"
      ]
     },
     "execution_count": 6,
     "metadata": {},
     "output_type": "execute_result"
    }
   ],
   "source": [
    "aris = pd.read_csv('data/Cleaning/Aristotle_Dataset.csv',on_bad_lines='skip')\n",
    "aris.head()"
   ]
  },
  {
   "cell_type": "code",
   "execution_count": 7,
   "id": "2d80c0e1",
   "metadata": {},
   "outputs": [
    {
     "data": {
      "text/plain": [
       "0    5352\n",
       "1    1538\n",
       "Name: label, dtype: int64"
      ]
     },
     "execution_count": 7,
     "metadata": {},
     "output_type": "execute_result"
    }
   ],
   "source": [
    "aris.label.value_counts()"
   ]
  },
  {
   "cell_type": "markdown",
   "id": "da29ff9f",
   "metadata": {},
   "source": [
    "### Hugging Face Dataset "
   ]
  },
  {
   "cell_type": "code",
   "execution_count": 8,
   "id": "32f0790f",
   "metadata": {},
   "outputs": [
    {
     "data": {
      "text/plain": [
       "Index(['label', 'clean_tweet', 'Hash Words'], dtype='object')"
      ]
     },
     "execution_count": 8,
     "metadata": {},
     "output_type": "execute_result"
    }
   ],
   "source": [
    "hf = pd.read_csv('data/Cleaning/HuggingFace_Dataset.csv',on_bad_lines='skip')\n",
    "hf.columns"
   ]
  },
  {
   "cell_type": "code",
   "execution_count": 9,
   "id": "e98c8993",
   "metadata": {},
   "outputs": [
    {
     "data": {
      "text/html": [
       "<div>\n",
       "<style scoped>\n",
       "    .dataframe tbody tr th:only-of-type {\n",
       "        vertical-align: middle;\n",
       "    }\n",
       "\n",
       "    .dataframe tbody tr th {\n",
       "        vertical-align: top;\n",
       "    }\n",
       "\n",
       "    .dataframe thead th {\n",
       "        text-align: right;\n",
       "    }\n",
       "</style>\n",
       "<table border=\"1\" class=\"dataframe\">\n",
       "  <thead>\n",
       "    <tr style=\"text-align: right;\">\n",
       "      <th></th>\n",
       "      <th>label</th>\n",
       "      <th>clean_tweet</th>\n",
       "      <th>Hash Words</th>\n",
       "    </tr>\n",
       "  </thead>\n",
       "  <tbody>\n",
       "    <tr>\n",
       "      <th>0</th>\n",
       "      <td>0</td>\n",
       "      <td>spread positiv give someon high five today pos...</td>\n",
       "      <td>#positiveenergy #highfive #tuesdaymotivation</td>\n",
       "    </tr>\n",
       "    <tr>\n",
       "      <th>1</th>\n",
       "      <td>0</td>\n",
       "      <td>difficult ask mani languag measur happi unifor...</td>\n",
       "      <td>#languages- #happiness</td>\n",
       "    </tr>\n",
       "    <tr>\n",
       "      <th>2</th>\n",
       "      <td>0</td>\n",
       "      <td>pray orlando orlando orlandostrong bestrong pr...</td>\n",
       "      <td>#orlando #orlandostrong #bestrong #pray #belie...</td>\n",
       "    </tr>\n",
       "    <tr>\n",
       "      <th>3</th>\n",
       "      <td>0</td>\n",
       "      <td>bought thing kyli cosmet today ddd lovethemal</td>\n",
       "      <td>#lovethemall</td>\n",
       "    </tr>\n",
       "    <tr>\n",
       "      <th>4</th>\n",
       "      <td>0</td>\n",
       "      <td>gorgeou modeltoi look wild sexi follow victori...</td>\n",
       "      <td>#model</td>\n",
       "    </tr>\n",
       "  </tbody>\n",
       "</table>\n",
       "</div>"
      ],
      "text/plain": [
       "   label                                        clean_tweet  \\\n",
       "0      0  spread positiv give someon high five today pos...   \n",
       "1      0  difficult ask mani languag measur happi unifor...   \n",
       "2      0  pray orlando orlando orlandostrong bestrong pr...   \n",
       "3      0      bought thing kyli cosmet today ddd lovethemal   \n",
       "4      0  gorgeou modeltoi look wild sexi follow victori...   \n",
       "\n",
       "                                          Hash Words  \n",
       "0       #positiveenergy #highfive #tuesdaymotivation  \n",
       "1                             #languages- #happiness  \n",
       "2  #orlando #orlandostrong #bestrong #pray #belie...  \n",
       "3                                       #lovethemall  \n",
       "4                                             #model  "
      ]
     },
     "execution_count": 9,
     "metadata": {},
     "output_type": "execute_result"
    }
   ],
   "source": [
    "hf.head()"
   ]
  },
  {
   "cell_type": "code",
   "execution_count": 10,
   "id": "d50c12f4",
   "metadata": {},
   "outputs": [
    {
     "data": {
      "text/plain": [
       "0    25255\n",
       "1     1676\n",
       "Name: label, dtype: int64"
      ]
     },
     "execution_count": 10,
     "metadata": {},
     "output_type": "execute_result"
    }
   ],
   "source": [
    "hf.label.value_counts()"
   ]
  },
  {
   "cell_type": "markdown",
   "id": "ee5e75e0",
   "metadata": {},
   "source": [
    "### Copenhagen Dataset "
   ]
  },
  {
   "cell_type": "code",
   "execution_count": 11,
   "id": "2d628a5d",
   "metadata": {},
   "outputs": [
    {
     "data": {
      "text/html": [
       "<div>\n",
       "<style scoped>\n",
       "    .dataframe tbody tr th:only-of-type {\n",
       "        vertical-align: middle;\n",
       "    }\n",
       "\n",
       "    .dataframe tbody tr th {\n",
       "        vertical-align: top;\n",
       "    }\n",
       "\n",
       "    .dataframe thead th {\n",
       "        text-align: right;\n",
       "    }\n",
       "</style>\n",
       "<table border=\"1\" class=\"dataframe\">\n",
       "  <thead>\n",
       "    <tr style=\"text-align: right;\">\n",
       "      <th></th>\n",
       "      <th>label</th>\n",
       "      <th>clean_tweet</th>\n",
       "      <th>Hash Words</th>\n",
       "    </tr>\n",
       "  </thead>\n",
       "  <tbody>\n",
       "    <tr>\n",
       "      <th>0</th>\n",
       "      <td>0</td>\n",
       "      <td>ok enough instant restaur alreadi</td>\n",
       "      <td>No hashtags</td>\n",
       "    </tr>\n",
       "    <tr>\n",
       "      <th>1</th>\n",
       "      <td>0</td>\n",
       "      <td>femal cowork asse woman choos work hooter okay</td>\n",
       "      <td>No hashtags</td>\n",
       "    </tr>\n",
       "    <tr>\n",
       "      <th>2</th>\n",
       "      <td>1</td>\n",
       "      <td>call sexist want girl never comment footbal me...</td>\n",
       "      <td>No hashtags</td>\n",
       "    </tr>\n",
       "    <tr>\n",
       "      <th>3</th>\n",
       "      <td>0</td>\n",
       "      <td>live long prosper leonard nimoy repo dead 83</td>\n",
       "      <td>No hashtags</td>\n",
       "    </tr>\n",
       "    <tr>\n",
       "      <th>4</th>\n",
       "      <td>1</td>\n",
       "      <td>sexist right hate girl</td>\n",
       "      <td>No hashtags</td>\n",
       "    </tr>\n",
       "  </tbody>\n",
       "</table>\n",
       "</div>"
      ],
      "text/plain": [
       "   label                                        clean_tweet   Hash Words\n",
       "0      0                  ok enough instant restaur alreadi  No hashtags\n",
       "1      0     femal cowork asse woman choos work hooter okay  No hashtags\n",
       "2      1  call sexist want girl never comment footbal me...  No hashtags\n",
       "3      0       live long prosper leonard nimoy repo dead 83  No hashtags\n",
       "4      1                             sexist right hate girl  No hashtags"
      ]
     },
     "execution_count": 11,
     "metadata": {},
     "output_type": "execute_result"
    }
   ],
   "source": [
    "copen = pd.read_csv('data/Cleaning/Copenhagen_Dataset.csv',on_bad_lines='skip')\n",
    "copen.head()"
   ]
  },
  {
   "cell_type": "code",
   "execution_count": 12,
   "id": "74b90a54",
   "metadata": {},
   "outputs": [
    {
     "data": {
      "text/plain": [
       "0    6698\n",
       "1    2570\n",
       "Name: label, dtype: int64"
      ]
     },
     "execution_count": 12,
     "metadata": {},
     "output_type": "execute_result"
    }
   ],
   "source": [
    "copen.label.value_counts()"
   ]
  },
  {
   "cell_type": "markdown",
   "id": "10007b6a",
   "metadata": {},
   "source": [
    "# Train and Test Data Preparation "
   ]
  },
  {
   "cell_type": "markdown",
   "id": "3d358eb9",
   "metadata": {},
   "source": [
    "### Hugging Face Dataset to Train and Others to Test."
   ]
  },
  {
   "cell_type": "code",
   "execution_count": 13,
   "id": "0da3fa30",
   "metadata": {},
   "outputs": [],
   "source": [
    "hf_x_train = hf.clean_tweet\n",
    "hasoc_x_test = hasoc.clean_tweet\n",
    "aris_x_test = aris.clean_tweet\n",
    "copen_x_test = copen.clean_tweet\n",
    "\n",
    "hf_y_train = hf.label\n",
    "hasoc_y_test = hasoc.label\n",
    "aris_y_test = aris.label\n",
    "copen_y_test = copen.label"
   ]
  },
  {
   "cell_type": "markdown",
   "id": "a4e289a3",
   "metadata": {},
   "source": [
    "### Implement TFIDF for Unshuffled Data"
   ]
  },
  {
   "cell_type": "code",
   "execution_count": 14,
   "id": "bf4316e7",
   "metadata": {},
   "outputs": [],
   "source": [
    "vec = TfidfVectorizer()\n",
    "tfidf_tr = vec.fit_transform(hf_x_train)\n",
    "tfidf_hasoc_test = vec.transform(hasoc_x_test)\n",
    "tfidf_aris_test = vec.transform(aris_x_test)\n",
    "tfidf_copen_test = vec.transform(copen_x_test)"
   ]
  },
  {
   "cell_type": "code",
   "execution_count": 15,
   "id": "72287d45",
   "metadata": {},
   "outputs": [
    {
     "data": {
      "text/plain": [
       "(26931, 37214)"
      ]
     },
     "execution_count": 15,
     "metadata": {},
     "output_type": "execute_result"
    }
   ],
   "source": [
    "tfidf_tr.shape"
   ]
  },
  {
   "cell_type": "code",
   "execution_count": 16,
   "id": "c402e45a",
   "metadata": {},
   "outputs": [],
   "source": [
    "first_document_vector=tfidf_hasoc_test[1]"
   ]
  },
  {
   "cell_type": "code",
   "execution_count": 17,
   "id": "c3bb0826",
   "metadata": {},
   "outputs": [
    {
     "name": "stdout",
     "output_type": "stream",
     "text": [
      "  (0, 29780)\t0.46275361977981866\n",
      "  (0, 29778)\t0.2735459351853603\n",
      "  (0, 26640)\t0.45018801771431777\n",
      "  (0, 18310)\t0.3066054002230288\n",
      "  (0, 14979)\t0.2534897903538734\n",
      "  (0, 14166)\t0.41838888140766856\n",
      "  (0, 4181)\t0.41838888140766856\n"
     ]
    }
   ],
   "source": [
    "print(first_document_vector)"
   ]
  },
  {
   "cell_type": "code",
   "execution_count": 18,
   "id": "e240d5f2",
   "metadata": {},
   "outputs": [
    {
     "name": "stderr",
     "output_type": "stream",
     "text": [
      "/opt/anaconda3/lib/python3.9/site-packages/sklearn/utils/deprecation.py:87: FutureWarning: Function get_feature_names is deprecated; get_feature_names is deprecated in 1.0 and will be removed in 1.2. Please use get_feature_names_out instead.\n",
      "  warnings.warn(msg, category=FutureWarning)\n"
     ]
    },
    {
     "data": {
      "text/html": [
       "<div>\n",
       "<style scoped>\n",
       "    .dataframe tbody tr th:only-of-type {\n",
       "        vertical-align: middle;\n",
       "    }\n",
       "\n",
       "    .dataframe tbody tr th {\n",
       "        vertical-align: top;\n",
       "    }\n",
       "\n",
       "    .dataframe thead th {\n",
       "        text-align: right;\n",
       "    }\n",
       "</style>\n",
       "<table border=\"1\" class=\"dataframe\">\n",
       "  <thead>\n",
       "    <tr style=\"text-align: right;\">\n",
       "      <th></th>\n",
       "      <th>tfidf</th>\n",
       "    </tr>\n",
       "  </thead>\n",
       "  <tbody>\n",
       "    <tr>\n",
       "      <th>showcas</th>\n",
       "      <td>0.462754</td>\n",
       "    </tr>\n",
       "    <tr>\n",
       "      <th>prime</th>\n",
       "      <td>0.450188</td>\n",
       "    </tr>\n",
       "    <tr>\n",
       "      <th>genuin</th>\n",
       "      <td>0.418389</td>\n",
       "    </tr>\n",
       "    <tr>\n",
       "      <th>bastard</th>\n",
       "      <td>0.418389</td>\n",
       "    </tr>\n",
       "    <tr>\n",
       "      <th>job</th>\n",
       "      <td>0.306605</td>\n",
       "    </tr>\n",
       "    <tr>\n",
       "      <th>show</th>\n",
       "      <td>0.273546</td>\n",
       "    </tr>\n",
       "    <tr>\n",
       "      <th>great</th>\n",
       "      <td>0.253490</td>\n",
       "    </tr>\n",
       "    <tr>\n",
       "      <th>ottbik</th>\n",
       "      <td>0.000000</td>\n",
       "    </tr>\n",
       "    <tr>\n",
       "      <th>otss</th>\n",
       "      <td>0.000000</td>\n",
       "    </tr>\n",
       "    <tr>\n",
       "      <th>otta</th>\n",
       "      <td>0.000000</td>\n",
       "    </tr>\n",
       "    <tr>\n",
       "      <th>ottawa</th>\n",
       "      <td>0.000000</td>\n",
       "    </tr>\n",
       "    <tr>\n",
       "      <th>ottawagiveaway</th>\n",
       "      <td>0.000000</td>\n",
       "    </tr>\n",
       "    <tr>\n",
       "      <th>ottawaig</th>\n",
       "      <td>0.000000</td>\n",
       "    </tr>\n",
       "    <tr>\n",
       "      <th>ouachita</th>\n",
       "      <td>0.000000</td>\n",
       "    </tr>\n",
       "    <tr>\n",
       "      <th>ouch</th>\n",
       "      <td>0.000000</td>\n",
       "    </tr>\n",
       "    <tr>\n",
       "      <th>otslbohem</th>\n",
       "      <td>0.000000</td>\n",
       "    </tr>\n",
       "    <tr>\n",
       "      <th>ouat</th>\n",
       "      <td>0.000000</td>\n",
       "    </tr>\n",
       "    <tr>\n",
       "      <th>otter</th>\n",
       "      <td>0.000000</td>\n",
       "    </tr>\n",
       "    <tr>\n",
       "      <th>otw</th>\n",
       "      <td>0.000000</td>\n",
       "    </tr>\n",
       "    <tr>\n",
       "      <th>ou</th>\n",
       "      <td>0.000000</td>\n",
       "    </tr>\n",
       "    <tr>\n",
       "      <th>ottciti</th>\n",
       "      <td>0.000000</td>\n",
       "    </tr>\n",
       "    <tr>\n",
       "      <th>0000001</th>\n",
       "      <td>0.000000</td>\n",
       "    </tr>\n",
       "    <tr>\n",
       "      <th>otool</th>\n",
       "      <td>0.000000</td>\n",
       "    </tr>\n",
       "    <tr>\n",
       "      <th>ouchjunior</th>\n",
       "      <td>0.000000</td>\n",
       "    </tr>\n",
       "    <tr>\n",
       "      <th>ossuou</th>\n",
       "      <td>0.000000</td>\n",
       "    </tr>\n",
       "    <tr>\n",
       "      <th>ossuuuuooossoa</th>\n",
       "      <td>0.000000</td>\n",
       "    </tr>\n",
       "    <tr>\n",
       "      <th>ostrich</th>\n",
       "      <td>0.000000</td>\n",
       "    </tr>\n",
       "    <tr>\n",
       "      <th>osu</th>\n",
       "      <td>0.000000</td>\n",
       "    </tr>\n",
       "    <tr>\n",
       "      <th>osugrad</th>\n",
       "      <td>0.000000</td>\n",
       "    </tr>\n",
       "    <tr>\n",
       "      <th>oswald</th>\n",
       "      <td>0.000000</td>\n",
       "    </tr>\n",
       "    <tr>\n",
       "      <th>otaku</th>\n",
       "      <td>0.000000</td>\n",
       "    </tr>\n",
       "    <tr>\n",
       "      <th>otavalo</th>\n",
       "      <td>0.000000</td>\n",
       "    </tr>\n",
       "    <tr>\n",
       "      <th>otd</th>\n",
       "      <td>0.000000</td>\n",
       "    </tr>\n",
       "    <tr>\n",
       "      <th>otel</th>\n",
       "      <td>0.000000</td>\n",
       "    </tr>\n",
       "    <tr>\n",
       "      <th>otemporaomor</th>\n",
       "      <td>0.000000</td>\n",
       "    </tr>\n",
       "    <tr>\n",
       "      <th>otha</th>\n",
       "      <td>0.000000</td>\n",
       "    </tr>\n",
       "    <tr>\n",
       "      <th>other</th>\n",
       "      <td>0.000000</td>\n",
       "    </tr>\n",
       "    <tr>\n",
       "      <th>otheri</th>\n",
       "      <td>0.000000</td>\n",
       "    </tr>\n",
       "    <tr>\n",
       "      <th>othersid</th>\n",
       "      <td>0.000000</td>\n",
       "    </tr>\n",
       "    <tr>\n",
       "      <th>otherwis</th>\n",
       "      <td>0.000000</td>\n",
       "    </tr>\n",
       "    <tr>\n",
       "      <th>ounc</th>\n",
       "      <td>0.000000</td>\n",
       "    </tr>\n",
       "    <tr>\n",
       "      <th>oughta</th>\n",
       "      <td>0.000000</td>\n",
       "    </tr>\n",
       "    <tr>\n",
       "      <th>outdcddcddcddcddcddcddc</th>\n",
       "      <td>0.000000</td>\n",
       "    </tr>\n",
       "    <tr>\n",
       "      <th>outandabout</th>\n",
       "      <td>0.000000</td>\n",
       "    </tr>\n",
       "    <tr>\n",
       "      <th>outcast</th>\n",
       "      <td>0.000000</td>\n",
       "    </tr>\n",
       "  </tbody>\n",
       "</table>\n",
       "</div>"
      ],
      "text/plain": [
       "                            tfidf\n",
       "showcas                  0.462754\n",
       "prime                    0.450188\n",
       "genuin                   0.418389\n",
       "bastard                  0.418389\n",
       "job                      0.306605\n",
       "show                     0.273546\n",
       "great                    0.253490\n",
       "ottbik                   0.000000\n",
       "otss                     0.000000\n",
       "otta                     0.000000\n",
       "ottawa                   0.000000\n",
       "ottawagiveaway           0.000000\n",
       "ottawaig                 0.000000\n",
       "ouachita                 0.000000\n",
       "ouch                     0.000000\n",
       "otslbohem                0.000000\n",
       "ouat                     0.000000\n",
       "otter                    0.000000\n",
       "otw                      0.000000\n",
       "ou                       0.000000\n",
       "ottciti                  0.000000\n",
       "0000001                  0.000000\n",
       "otool                    0.000000\n",
       "ouchjunior               0.000000\n",
       "ossuou                   0.000000\n",
       "ossuuuuooossoa           0.000000\n",
       "ostrich                  0.000000\n",
       "osu                      0.000000\n",
       "osugrad                  0.000000\n",
       "oswald                   0.000000\n",
       "otaku                    0.000000\n",
       "otavalo                  0.000000\n",
       "otd                      0.000000\n",
       "otel                     0.000000\n",
       "otemporaomor             0.000000\n",
       "otha                     0.000000\n",
       "other                    0.000000\n",
       "otheri                   0.000000\n",
       "othersid                 0.000000\n",
       "otherwis                 0.000000\n",
       "ounc                     0.000000\n",
       "oughta                   0.000000\n",
       "outdcddcddcddcddcddcddc  0.000000\n",
       "outandabout              0.000000\n",
       "outcast                  0.000000"
      ]
     },
     "execution_count": 18,
     "metadata": {},
     "output_type": "execute_result"
    }
   ],
   "source": [
    "feature_names = vec.get_feature_names()\n",
    "df = pd.DataFrame(first_document_vector.T.todense(), index=feature_names, columns=[\"tfidf\"])\n",
    "df.sort_values(by=[\"tfidf\"],ascending=False).head(45)"
   ]
  },
  {
   "cell_type": "markdown",
   "id": "69b30dbc",
   "metadata": {},
   "source": [
    "### Shuffle the Data for Neural Network Model"
   ]
  },
  {
   "cell_type": "code",
   "execution_count": 19,
   "id": "1d03e866",
   "metadata": {},
   "outputs": [],
   "source": [
    "hf_shuffle = hf.sample(frac=1)\n",
    "hasoc_shuffle = hasoc.sample(frac=1)\n",
    "aris_shuffle = aris.sample(frac=1)\n",
    "copen_shuffle = copen.sample(frac=1)"
   ]
  },
  {
   "cell_type": "code",
   "execution_count": 20,
   "id": "6979fbd3",
   "metadata": {},
   "outputs": [],
   "source": [
    "hf_x_train_shuffle = hf_shuffle.clean_tweet\n",
    "hasoc_x_test_shuffle = hasoc_shuffle.clean_tweet\n",
    "aris_x_test_shuffle = aris_shuffle.clean_tweet\n",
    "copen_x_test_shuffle = copen_shuffle.clean_tweet\n",
    "\n",
    "hf_y_train_shuffle = hf_shuffle.label\n",
    "hasoc_y_test_shuffle = hasoc_shuffle.label\n",
    "aris_y_test_shuffle = aris_shuffle.label\n",
    "copen_y_test_shuffle = copen_shuffle.label"
   ]
  },
  {
   "cell_type": "markdown",
   "id": "ff306674",
   "metadata": {},
   "source": [
    "### Implement TFIDF for Shuffled Data "
   ]
  },
  {
   "cell_type": "code",
   "execution_count": 21,
   "id": "e35eacaa",
   "metadata": {},
   "outputs": [],
   "source": [
    "vec = TfidfVectorizer()\n",
    "tfidf_tr_shuffle = vec.fit_transform(hf_x_train_shuffle)\n",
    "tfidf_hasoc_test_shuffle = vec.transform(hasoc_x_test_shuffle)\n",
    "tfidf_aris_test_shuffle = vec.transform(aris_x_test_shuffle)\n",
    "tfidf_copen_test_shuffle = vec.transform(copen_x_test_shuffle)"
   ]
  },
  {
   "cell_type": "markdown",
   "id": "cbc5d90c",
   "metadata": {},
   "source": [
    "# Artifical Neural Network "
   ]
  },
  {
   "cell_type": "code",
   "execution_count": 22,
   "id": "1bc8487d",
   "metadata": {},
   "outputs": [],
   "source": [
    "hf_y_train_encode = preprocessing.LabelEncoder().fit_transform(hf_y_train_shuffle)\n",
    "hasoc_y_test_encode = preprocessing. LabelEncoder().fit_transform(hasoc_y_test_shuffle)\n",
    "aris_y_test_encode = preprocessing. LabelEncoder().fit_transform(aris_y_test_shuffle)\n",
    "copen_y_test_encode = preprocessing. LabelEncoder().fit_transform(copen_y_test_shuffle)"
   ]
  },
  {
   "cell_type": "code",
   "execution_count": 23,
   "id": "b575c710",
   "metadata": {},
   "outputs": [],
   "source": [
    "hf_x_train = scipy.sparse.csr_matrix.todense(tfidf_tr_shuffle)\n",
    "hasoc_x_test = scipy.sparse.csr_matrix.todense(tfidf_hasoc_test_shuffle)\n",
    "aris_x_test = scipy.sparse.csr_matrix.todense(tfidf_aris_test_shuffle)\n",
    "copen_x_test = scipy.sparse.csr_matrix.todense(tfidf_copen_test_shuffle)"
   ]
  },
  {
   "cell_type": "code",
   "execution_count": 24,
   "id": "3ffe4c4e",
   "metadata": {},
   "outputs": [],
   "source": [
    "# define and fit the model\n",
    "def get_model(trainX,trainy):\n",
    " # define model\n",
    "    model = tf.keras.Sequential([\n",
    "                            tf.keras.layers.Dense(128, activation='relu', input_shape=(trainX.shape[1],)),\n",
    "                            tf.keras.layers.Dropout(0.2),\n",
    "                            tf.keras.layers.Dense(32, activation='relu'),\n",
    "                            tf.keras.layers.Dropout(0.2),\n",
    "                            tf.keras.layers.Dense(128, activation='softmax')])\n",
    "    model.compile(loss='sparse_categorical_crossentropy', optimizer='adam', metrics=['accuracy'])\n",
    "    model.fit(trainX, trainy, epochs=10, verbose=2)\n",
    "    return model"
   ]
  },
  {
   "cell_type": "markdown",
   "id": "56bacc9b",
   "metadata": {},
   "source": [
    "### Use HASOC to Test"
   ]
  },
  {
   "cell_type": "code",
   "execution_count": 25,
   "id": "03b1b7d3",
   "metadata": {},
   "outputs": [
    {
     "name": "stderr",
     "output_type": "stream",
     "text": [
      "2023-03-19 22:10:35.069122: I tensorflow/core/platform/cpu_feature_guard.cc:193] This TensorFlow binary is optimized with oneAPI Deep Neural Network Library (oneDNN) to use the following CPU instructions in performance-critical operations:  SSE4.1 SSE4.2\n",
      "To enable them in other operations, rebuild TensorFlow with the appropriate compiler flags.\n"
     ]
    },
    {
     "name": "stdout",
     "output_type": "stream",
     "text": [
      "Epoch 1/10\n",
      "842/842 - 7s - loss: 0.4773 - accuracy: 0.9381 - 7s/epoch - 8ms/step\n",
      "Epoch 2/10\n",
      "842/842 - 6s - loss: 0.0920 - accuracy: 0.9679 - 6s/epoch - 7ms/step\n",
      "Epoch 3/10\n",
      "842/842 - 6s - loss: 0.0437 - accuracy: 0.9854 - 6s/epoch - 7ms/step\n",
      "Epoch 4/10\n",
      "842/842 - 6s - loss: 0.0225 - accuracy: 0.9926 - 6s/epoch - 7ms/step\n",
      "Epoch 5/10\n",
      "842/842 - 6s - loss: 0.0111 - accuracy: 0.9969 - 6s/epoch - 7ms/step\n",
      "Epoch 6/10\n",
      "842/842 - 6s - loss: 0.0069 - accuracy: 0.9980 - 6s/epoch - 7ms/step\n",
      "Epoch 7/10\n",
      "842/842 - 6s - loss: 0.0047 - accuracy: 0.9985 - 6s/epoch - 7ms/step\n",
      "Epoch 8/10\n",
      "842/842 - 6s - loss: 0.0031 - accuracy: 0.9990 - 6s/epoch - 7ms/step\n",
      "Epoch 9/10\n",
      "842/842 - 6s - loss: 0.0018 - accuracy: 0.9994 - 6s/epoch - 7ms/step\n",
      "Epoch 10/10\n",
      "842/842 - 7s - loss: 0.0011 - accuracy: 0.9996 - 7s/epoch - 8ms/step\n"
     ]
    }
   ],
   "source": [
    "ann_model = get_model(hf_x_train,hf_y_train_encode)"
   ]
  },
  {
   "cell_type": "code",
   "execution_count": 26,
   "id": "030ff176",
   "metadata": {},
   "outputs": [],
   "source": [
    "y_hasoc_predict = ann_model.predict(hasoc_x_test,verbose=0)\n",
    "y_predict_hasoc_classes=np.argmax(y_hasoc_predict,axis=1)"
   ]
  },
  {
   "cell_type": "code",
   "execution_count": 27,
   "id": "e1f7f1c7",
   "metadata": {},
   "outputs": [
    {
     "name": "stdout",
     "output_type": "stream",
     "text": [
      "Accuracy:  0.6798062100858842\n",
      "Recall:  0.12477718360071301\n",
      "Precision:  0.22875816993464052\n",
      "F1 Score:  0.16147635524798154\n"
     ]
    }
   ],
   "source": [
    "get_metrics_confusion(hasoc_y_test_encode, y_predict_hasoc_classes)"
   ]
  },
  {
   "cell_type": "markdown",
   "id": "0c3b72bd",
   "metadata": {},
   "source": [
    "### Use Aristotle Dataset to Test "
   ]
  },
  {
   "cell_type": "code",
   "execution_count": 28,
   "id": "63136657",
   "metadata": {},
   "outputs": [],
   "source": [
    "y_aris_predict = ann_model.predict(aris_x_test,verbose=0)\n",
    "y_predict_aris_classes=np.argmax(y_aris_predict,axis=1)"
   ]
  },
  {
   "cell_type": "code",
   "execution_count": 29,
   "id": "386d3623",
   "metadata": {},
   "outputs": [
    {
     "name": "stdout",
     "output_type": "stream",
     "text": [
      "Accuracy:  0.7761973875181423\n",
      "Recall:  0.12483745123537061\n",
      "Precision:  0.4948453608247423\n",
      "F1 Score:  0.19937694704049844\n"
     ]
    }
   ],
   "source": [
    "get_metrics_confusion(aris_y_test_encode, y_predict_aris_classes)"
   ]
  },
  {
   "cell_type": "markdown",
   "id": "96c7e954",
   "metadata": {},
   "source": [
    "### Use Copenhagen Dataset to Test "
   ]
  },
  {
   "cell_type": "code",
   "execution_count": 30,
   "id": "bed0b43b",
   "metadata": {},
   "outputs": [],
   "source": [
    "y_copen_predict = ann_model.predict(copen_x_test,verbose=0)\n",
    "y_predict_copen_classes=np.argmax(y_copen_predict,axis=1)"
   ]
  },
  {
   "cell_type": "code",
   "execution_count": 31,
   "id": "a618f8b0",
   "metadata": {},
   "outputs": [
    {
     "name": "stdout",
     "output_type": "stream",
     "text": [
      "Accuracy:  0.7556107034958999\n",
      "Recall:  0.3007782101167315\n",
      "Precision:  0.6228847703464948\n",
      "F1 Score:  0.4056678037260561\n"
     ]
    }
   ],
   "source": [
    "get_metrics_confusion(copen_y_test_encode, y_predict_copen_classes)"
   ]
  },
  {
   "cell_type": "markdown",
   "id": "c7a4d0d1",
   "metadata": {},
   "source": [
    "# Random Forest Classifier"
   ]
  },
  {
   "cell_type": "code",
   "execution_count": 32,
   "id": "3f2d8a6d",
   "metadata": {},
   "outputs": [],
   "source": [
    "rf = RandomForestClassifier(n_estimators=100).fit(tfidf_tr, hf_y_train)"
   ]
  },
  {
   "cell_type": "markdown",
   "id": "121ca6b7",
   "metadata": {},
   "source": [
    "### Use HASOC to Test"
   ]
  },
  {
   "cell_type": "code",
   "execution_count": 33,
   "id": "d39887b6",
   "metadata": {
    "scrolled": true
   },
   "outputs": [
    {
     "name": "stdout",
     "output_type": "stream",
     "text": [
      "Accuracy:  0.7346399471482052\n",
      "Recall:  0.045454545454545456\n",
      "Precision:  0.2756756756756757\n",
      "F1 Score:  0.07804131599081868\n"
     ]
    }
   ],
   "source": [
    "hasoc_rf_test = rf.predict(tfidf_hasoc_test)\n",
    "get_metrics_confusion(hasoc_y_test, hasoc_rf_test)"
   ]
  },
  {
   "cell_type": "markdown",
   "id": "6c49c4fa",
   "metadata": {},
   "source": [
    "### Use Aristotle Dataset to Test "
   ]
  },
  {
   "cell_type": "code",
   "execution_count": 34,
   "id": "0b56ab97",
   "metadata": {},
   "outputs": [
    {
     "name": "stdout",
     "output_type": "stream",
     "text": [
      "Accuracy:  0.781422351233672\n",
      "Recall:  0.053966189856957086\n",
      "Precision:  0.6194029850746269\n",
      "F1 Score:  0.0992822966507177\n"
     ]
    }
   ],
   "source": [
    "aris_rf_test = rf.predict(tfidf_aris_test)\n",
    "get_metrics_confusion(aris_y_test, aris_rf_test)"
   ]
  },
  {
   "cell_type": "markdown",
   "id": "61cea9a7",
   "metadata": {},
   "source": [
    "### Use Copenhagen Dataset to Test"
   ]
  },
  {
   "cell_type": "code",
   "execution_count": 35,
   "id": "f41b73d8",
   "metadata": {},
   "outputs": [
    {
     "name": "stdout",
     "output_type": "stream",
     "text": [
      "Accuracy:  0.8000647388864911\n",
      "Recall:  0.35175097276264594\n",
      "Precision:  0.8285976168652612\n",
      "F1 Score:  0.4938541382136029\n"
     ]
    }
   ],
   "source": [
    "copen_rf_test = rf.predict(tfidf_copen_test)\n",
    "get_metrics_confusion(copen_y_test, copen_rf_test)"
   ]
  },
  {
   "cell_type": "markdown",
   "id": "3f7e2aa1",
   "metadata": {},
   "source": [
    "# Support Vector Classifier"
   ]
  },
  {
   "cell_type": "code",
   "execution_count": 36,
   "id": "dcd2bb49",
   "metadata": {},
   "outputs": [],
   "source": [
    "svc = svm.LinearSVC(random_state=42).fit(tfidf_tr, hf_y_train)"
   ]
  },
  {
   "cell_type": "markdown",
   "id": "bc94cc5f",
   "metadata": {},
   "source": [
    "### Use HASOC to Test "
   ]
  },
  {
   "cell_type": "code",
   "execution_count": 37,
   "id": "ccfc75a9",
   "metadata": {},
   "outputs": [
    {
     "name": "stdout",
     "output_type": "stream",
     "text": [
      "Accuracy:  0.7181237612860604\n",
      "Recall:  0.08377896613190731\n",
      "Precision:  0.27167630057803466\n",
      "F1 Score:  0.12806539509536785\n"
     ]
    }
   ],
   "source": [
    "hasoc_svc_test = svc.predict(tfidf_hasoc_test)\n",
    "get_metrics_confusion(hasoc_y_test, hasoc_svc_test)"
   ]
  },
  {
   "cell_type": "markdown",
   "id": "f6f16b2e",
   "metadata": {},
   "source": [
    "### Use Aristotle Dataset to Test "
   ]
  },
  {
   "cell_type": "code",
   "execution_count": 38,
   "id": "5a971d1d",
   "metadata": {},
   "outputs": [
    {
     "name": "stdout",
     "output_type": "stream",
     "text": [
      "Accuracy:  0.7820029027576197\n",
      "Recall:  0.09752925877763328\n",
      "Precision:  0.5681818181818182\n",
      "F1 Score:  0.16648168701442842\n"
     ]
    }
   ],
   "source": [
    "aris_svc_test = svc.predict(tfidf_aris_test)\n",
    "get_metrics_confusion(aris_y_test, aris_svc_test)"
   ]
  },
  {
   "cell_type": "markdown",
   "id": "e1d3fecd",
   "metadata": {},
   "source": [
    "### Use Copenhagen Dataset to Test "
   ]
  },
  {
   "cell_type": "code",
   "execution_count": 39,
   "id": "0bea9dc2",
   "metadata": {},
   "outputs": [
    {
     "name": "stdout",
     "output_type": "stream",
     "text": [
      "Accuracy:  0.7678031937850669\n",
      "Recall:  0.26731517509727626\n",
      "Precision:  0.7186192468619247\n",
      "F1 Score:  0.38967668746454903\n"
     ]
    }
   ],
   "source": [
    "copen_svc_test = svc.predict(tfidf_copen_test)\n",
    "get_metrics_confusion(copen_y_test, copen_svc_test)"
   ]
  },
  {
   "cell_type": "markdown",
   "id": "91e39d92",
   "metadata": {},
   "source": [
    "# Logistic Regression"
   ]
  },
  {
   "cell_type": "code",
   "execution_count": 40,
   "id": "b7f67d9f",
   "metadata": {},
   "outputs": [],
   "source": [
    "log = LogisticRegression().fit(tfidf_tr, hf_y_train)"
   ]
  },
  {
   "cell_type": "markdown",
   "id": "623dd962",
   "metadata": {},
   "source": [
    "### Use HASOC to Test"
   ]
  },
  {
   "cell_type": "code",
   "execution_count": 41,
   "id": "2723f23f",
   "metadata": {},
   "outputs": [],
   "source": [
    "hasoc_log_test = log.predict(tfidf_hasoc_test)"
   ]
  },
  {
   "cell_type": "code",
   "execution_count": 42,
   "id": "41c7d89b",
   "metadata": {},
   "outputs": [
    {
     "name": "stdout",
     "output_type": "stream",
     "text": [
      "Accuracy:  0.7443294428539969\n",
      "Recall:  0.020499108734402853\n",
      "Precision:  0.27058823529411763\n",
      "F1 Score:  0.03811101905550953\n"
     ]
    }
   ],
   "source": [
    "get_metrics_confusion(hasoc_y_test, hasoc_log_test)"
   ]
  },
  {
   "cell_type": "markdown",
   "id": "64e7b617",
   "metadata": {},
   "source": [
    "### Use Aristotle Dataset to Test "
   ]
  },
  {
   "cell_type": "code",
   "execution_count": 43,
   "id": "53014a74",
   "metadata": {},
   "outputs": [],
   "source": [
    "aris_log_test = log.predict(tfidf_aris_test)"
   ]
  },
  {
   "cell_type": "code",
   "execution_count": 44,
   "id": "74637ba9",
   "metadata": {},
   "outputs": [
    {
     "name": "stdout",
     "output_type": "stream",
     "text": [
      "Accuracy:  0.7818577648766328\n",
      "Recall:  0.03966189856957087\n",
      "Precision:  0.7011494252873564\n",
      "F1 Score:  0.07507692307692307\n"
     ]
    }
   ],
   "source": [
    "get_metrics_confusion(aris_y_test, aris_log_test)"
   ]
  },
  {
   "cell_type": "markdown",
   "id": "e2978d07",
   "metadata": {},
   "source": [
    "### Use Copenhagen Dataset to Test "
   ]
  },
  {
   "cell_type": "code",
   "execution_count": 45,
   "id": "ed9a7e42",
   "metadata": {},
   "outputs": [],
   "source": [
    "copen_log_test = log.predict(tfidf_copen_test)"
   ]
  },
  {
   "cell_type": "code",
   "execution_count": 46,
   "id": "b40403fb",
   "metadata": {},
   "outputs": [
    {
     "name": "stdout",
     "output_type": "stream",
     "text": [
      "Accuracy:  0.7342468709538196\n",
      "Recall:  0.07042801556420233\n",
      "Precision:  0.7098039215686275\n",
      "F1 Score:  0.12814159292035399\n"
     ]
    }
   ],
   "source": [
    "get_metrics_confusion(copen_y_test, copen_log_test)"
   ]
  },
  {
   "cell_type": "markdown",
   "id": "c3dec59f",
   "metadata": {},
   "source": [
    "# Gradient Boosting"
   ]
  },
  {
   "cell_type": "code",
   "execution_count": 47,
   "id": "6a83ebf4",
   "metadata": {},
   "outputs": [],
   "source": [
    "gbc = GradientBoostingClassifier().fit(tfidf_tr, hf_y_train)"
   ]
  },
  {
   "cell_type": "markdown",
   "id": "ba9e7a60",
   "metadata": {},
   "source": [
    "### Use HASOC to Test  "
   ]
  },
  {
   "cell_type": "code",
   "execution_count": 48,
   "id": "80508878",
   "metadata": {},
   "outputs": [],
   "source": [
    "hasoc_gbc_test = gbc.predict(tfidf_hasoc_test)"
   ]
  },
  {
   "cell_type": "code",
   "execution_count": 49,
   "id": "0599fec1",
   "metadata": {},
   "outputs": [
    {
     "name": "stdout",
     "output_type": "stream",
     "text": [
      "Accuracy:  0.7511561330103501\n",
      "Recall:  0.022281639928698752\n",
      "Precision:  0.43103448275862066\n",
      "F1 Score:  0.04237288135593221\n"
     ]
    }
   ],
   "source": [
    "get_metrics_confusion(hasoc_y_test, hasoc_gbc_test)"
   ]
  },
  {
   "cell_type": "markdown",
   "id": "58252753",
   "metadata": {},
   "source": [
    "### Use Aristotle Dataset to Test  "
   ]
  },
  {
   "cell_type": "code",
   "execution_count": 50,
   "id": "0fde8b31",
   "metadata": {},
   "outputs": [],
   "source": [
    "aris_gbc_test = gbc.predict(tfidf_aris_test)"
   ]
  },
  {
   "cell_type": "code",
   "execution_count": 51,
   "id": "197e571e",
   "metadata": {},
   "outputs": [
    {
     "name": "stdout",
     "output_type": "stream",
     "text": [
      "Accuracy:  0.7786647314949202\n",
      "Recall:  0.0305591677503251\n",
      "Precision:  0.5802469135802469\n",
      "F1 Score:  0.058060531192093895\n"
     ]
    }
   ],
   "source": [
    "get_metrics_confusion(aris_y_test, aris_gbc_test)"
   ]
  },
  {
   "cell_type": "markdown",
   "id": "6d50ee6d",
   "metadata": {},
   "source": [
    "### Use Copenhagen Dataset to Test  "
   ]
  },
  {
   "cell_type": "code",
   "execution_count": 52,
   "id": "513c9657",
   "metadata": {},
   "outputs": [],
   "source": [
    "copen_gbc_test = gbc.predict(tfidf_copen_test)"
   ]
  },
  {
   "cell_type": "code",
   "execution_count": 53,
   "id": "f0404dc8",
   "metadata": {},
   "outputs": [
    {
     "name": "stdout",
     "output_type": "stream",
     "text": [
      "Accuracy:  0.7287440656020716\n",
      "Recall:  0.04202334630350195\n",
      "Precision:  0.675\n",
      "F1 Score:  0.07912087912087913\n"
     ]
    }
   ],
   "source": [
    "get_metrics_confusion(copen_y_test, copen_gbc_test)"
   ]
  },
  {
   "cell_type": "code",
   "execution_count": null,
   "id": "ce8213c8",
   "metadata": {},
   "outputs": [],
   "source": []
  }
 ],
 "metadata": {
  "kernelspec": {
   "display_name": "Python 3 (ipykernel)",
   "language": "python",
   "name": "python3"
  },
  "language_info": {
   "codemirror_mode": {
    "name": "ipython",
    "version": 3
   },
   "file_extension": ".py",
   "mimetype": "text/x-python",
   "name": "python",
   "nbconvert_exporter": "python",
   "pygments_lexer": "ipython3",
   "version": "3.9.13"
  }
 },
 "nbformat": 4,
 "nbformat_minor": 5
}
